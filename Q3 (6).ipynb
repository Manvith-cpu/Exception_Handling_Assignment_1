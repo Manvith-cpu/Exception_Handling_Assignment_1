{
 "cells": [
  {
   "cell_type": "markdown",
   "id": "ee497b66-92c4-498f-b004-5c36a80236fc",
   "metadata": {},
   "source": [
    "## The try and except block in Python is used to catch and handle exceptions"
   ]
  },
  {
   "cell_type": "code",
   "execution_count": 2,
   "id": "d44e317d-51de-4d46-990f-b9c668f6b213",
   "metadata": {},
   "outputs": [
    {
     "name": "stdout",
     "output_type": "stream",
     "text": [
      "division by zero\n"
     ]
    }
   ],
   "source": [
    "try:\n",
    "    10/0\n",
    "except ZeroDivisionError as e:\n",
    "    print(e)"
   ]
  }
 ],
 "metadata": {
  "kernelspec": {
   "display_name": "Python 3 (ipykernel)",
   "language": "python",
   "name": "python3"
  },
  "language_info": {
   "codemirror_mode": {
    "name": "ipython",
    "version": 3
   },
   "file_extension": ".py",
   "mimetype": "text/x-python",
   "name": "python",
   "nbconvert_exporter": "python",
   "pygments_lexer": "ipython3",
   "version": "3.10.8"
  }
 },
 "nbformat": 4,
 "nbformat_minor": 5
}
