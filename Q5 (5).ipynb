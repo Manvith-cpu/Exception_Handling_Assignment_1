{
 "cells": [
  {
   "cell_type": "markdown",
   "id": "310044c7-73f7-4d50-804c-77ab09977d2f",
   "metadata": {},
   "source": [
    "## Like standard exception classes, custom exceptions are also classes. Hence, you can add functionality to the custom exception classes like: Adding attributes and properties."
   ]
  },
  {
   "cell_type": "code",
   "execution_count": 2,
   "id": "62d28087-13bb-4860-a11e-2cb8a474a84d",
   "metadata": {},
   "outputs": [],
   "source": [
    "class validateAge(Exception):\n",
    "    def __init__(self,msg):\n",
    "        self.msg=msg"
   ]
  },
  {
   "cell_type": "code",
   "execution_count": 3,
   "id": "aad239ec-c977-4486-87a1-1e6a295fd788",
   "metadata": {},
   "outputs": [],
   "source": [
    "def validateage(age):\n",
    "    if age<0:\n",
    "        raise validateAge(\"{} is negative \".format(age))\n",
    "    elif age>150:\n",
    "        raise validateAge(\"{} is very high\".format(age))\n",
    "    else:\n",
    "        print(\"age is valid\")"
   ]
  },
  {
   "cell_type": "code",
   "execution_count": 4,
   "id": "2f725b12-aa47-4fca-99b5-dd5c54100ca4",
   "metadata": {},
   "outputs": [
    {
     "name": "stdin",
     "output_type": "stream",
     "text": [
      "Enter your age:  -123\n"
     ]
    },
    {
     "name": "stdout",
     "output_type": "stream",
     "text": [
      "-123 is negative \n"
     ]
    }
   ],
   "source": [
    "try:\n",
    "    age=int(input(\"Enter your age: \"))\n",
    "    validateage(age)\n",
    "except validateAge as e:\n",
    "    print(e)"
   ]
  }
 ],
 "metadata": {
  "kernelspec": {
   "display_name": "Python 3 (ipykernel)",
   "language": "python",
   "name": "python3"
  },
  "language_info": {
   "codemirror_mode": {
    "name": "ipython",
    "version": 3
   },
   "file_extension": ".py",
   "mimetype": "text/x-python",
   "name": "python",
   "nbconvert_exporter": "python",
   "pygments_lexer": "ipython3",
   "version": "3.10.8"
  }
 },
 "nbformat": 4,
 "nbformat_minor": 5
}
