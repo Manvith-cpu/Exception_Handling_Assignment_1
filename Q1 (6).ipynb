{
 "cells": [
  {
   "cell_type": "markdown",
   "id": "96a5035a-eb8e-40ed-a378-741c943ff09d",
   "metadata": {},
   "source": [
    "## An exception is an event, which occurs during the execution of a program that disrupts the normal flow of the program's instructions."
   ]
  },
  {
   "cell_type": "markdown",
   "id": "c184ed09-fe26-4257-80f7-635452de923e",
   "metadata": {},
   "source": [
    "## An error is an issue in a program that prevents the program from completing its task. In comparison, an exception is a condition that interrupts the normal flow of the program. Both errors and exceptions are a type of runtime error, which means they occur during the execution of a program.\n"
   ]
  }
 ],
 "metadata": {
  "kernelspec": {
   "display_name": "Python 3 (ipykernel)",
   "language": "python",
   "name": "python3"
  },
  "language_info": {
   "codemirror_mode": {
    "name": "ipython",
    "version": 3
   },
   "file_extension": ".py",
   "mimetype": "text/x-python",
   "name": "python",
   "nbconvert_exporter": "python",
   "pygments_lexer": "ipython3",
   "version": "3.10.8"
  }
 },
 "nbformat": 4,
 "nbformat_minor": 5
}
